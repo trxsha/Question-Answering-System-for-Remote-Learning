{
  "nbformat": 4,
  "nbformat_minor": 0,
  "metadata": {
    "colab": {
      "name": "Data_Prep_Model_Tuning.ipynb",
      "provenance": [],
      "collapsed_sections": []
    },
    "hide_input": false,
    "kernelspec": {
      "display_name": "Python 3",
      "language": "python",
      "name": "python3"
    },
    "language_info": {
      "codemirror_mode": {
        "name": "ipython",
        "version": 3
      },
      "file_extension": ".py",
      "mimetype": "text/x-python",
      "name": "python",
      "nbconvert_exporter": "python",
      "pygments_lexer": "ipython3",
      "version": "3.6.8"
    },
    "toc": {
      "base_numbering": 1,
      "nav_menu": {},
      "number_sections": true,
      "sideBar": true,
      "skip_h1_title": false,
      "title_cell": "Table of Contents",
      "title_sidebar": "Contents",
      "toc_cell": false,
      "toc_position": {},
      "toc_section_display": true,
      "toc_window_display": false
    },
    "varInspector": {
      "cols": {
        "lenName": 16,
        "lenType": 16,
        "lenVar": 40
      },
      "kernels_config": {
        "python": {
          "delete_cmd_postfix": "",
          "delete_cmd_prefix": "del ",
          "library": "var_list.py",
          "varRefreshCmd": "print(var_dic_list())"
        },
        "r": {
          "delete_cmd_postfix": ") ",
          "delete_cmd_prefix": "rm(",
          "library": "var_list.r",
          "varRefreshCmd": "cat(var_dic_list()) "
        }
      },
      "types_to_exclude": [
        "module",
        "function",
        "builtin_function_or_method",
        "instance",
        "_Feature"
      ],
      "window_display": false
    }
  },
  "cells": [
    {
      "cell_type": "markdown",
      "metadata": {
        "id": "5MHEwYkv8cV7"
      },
      "source": [
        "## Data Preparation\n",
        "\n",
        "**Steps and Goals**:\n",
        "  * Download selected files from the Colby CS website\n",
        "  * Convert pdfs into a pandas df (which can be directly used to feed to the model and make queries)\n",
        "    - Note here that the files were manually renamed from 'outlinexx' to a name that reflects their contents (e.g BinTree.pdf) to make it easier to read model output later on\n",
        "  * Convert df into a .json file which will later be annotated into a BERT Q&A format using cdQA annotator to fine tune the model\n",
        "\n",
        "**Output:**\n",
        "  * CS231_Ying.json file, which is later downloaded to the local computer for annotation"
      ]
    },
    {
      "cell_type": "code",
      "metadata": {
        "id": "QhtsEztLNBdq"
      },
      "source": [
        "# installing cdqa necessary for using pdf_converter()\n",
        "!pip install cdqa"
      ],
      "execution_count": null,
      "outputs": []
    },
    {
      "cell_type": "code",
      "metadata": {
        "id": "XFHuHyJx2aW6"
      },
      "source": [
        "# this fixes issue with importing \"is_url\" with older version of pandas\n",
        "!pip install pandas==1.1.0"
      ],
      "execution_count": null,
      "outputs": []
    },
    {
      "cell_type": "code",
      "metadata": {
        "ExecuteTime": {
          "end_time": "2019-07-20T13:41:40.814076Z",
          "start_time": "2019-07-20T13:41:39.440654Z"
        },
        "colab": {
          "base_uri": "https://localhost:8080/"
        },
        "id": "7UMrjUJ2EGmu",
        "outputId": "5ee1c848-9bd0-4f37-8213-1eecaef44226"
      },
      "source": [
        "# import everthing we need here\n",
        "import os\n",
        "import pandas as pd\n",
        "from ast import literal_eval\n",
        "\n",
        "from cdqa.utils.converters import pdf_converter\n",
        "from cdqa.pipeline import QAPipeline\n",
        "from cdqa.utils.download import download_model"
      ],
      "execution_count": null,
      "outputs": [
        {
          "output_type": "stream",
          "text": [
            "/usr/local/lib/python3.7/dist-packages/tqdm/autonotebook/__init__.py:18: TqdmExperimentalWarning: Using `tqdm.autonotebook.tqdm` in notebook mode. Use `tqdm.tqdm` instead to force console mode (e.g. in jupyter console)\n",
            "  \" (e.g. in jupyter console)\", TqdmExperimentalWarning)\n"
          ],
          "name": "stderr"
        }
      ]
    },
    {
      "cell_type": "code",
      "metadata": {
        "id": "oCpv9t72OM01"
      },
      "source": [
        "## Getting relevant files from cs.colby.edu with the three chosen topics being:\n",
        "## Linked List, Trees and Graphs\n",
        "\n",
        "# Linked List\n",
        "!wget --no-check-certificate -P ./docs/ https://cs.colby.edu/courses/S18/cs231/notes/outlines12.pdf\n",
        "# Iterator for Linked List\n",
        "!wget --no-check-certificate -P ./docs/ https://cs.colby.edu/courses/S18/cs231/notes/outlines13.pdf\n",
        "# Doubly Linked List\n",
        "!wget --no-check-certificate -P ./docs/ https://cs.colby.edu/courses/S18/cs231/notes/outlines14.pdf\n",
        "# Tree and Binary Tree\n",
        "!wget --no-check-certificate -P ./docs/ https://cs.colby.edu/courses/S18/cs231/notes/outlines16.pdf\n",
        "# Complete tree and traversals\n",
        "!wget --no-check-certificate -P ./docs/ https://cs.colby.edu/courses/S18/cs231/notes/outlines17.pdf\n",
        "# Node Based Binary Tree\n",
        "!wget --no-check-certificate -P ./docs/ https://cs.colby.edu/courses/S18/cs231/notes/outlines18.pdf\n",
        "# Graphs\n",
        "!wget --no-check-certificate -P ./docs/ https://cs.colby.edu/courses/S18/cs231/notes/outlines26.pdf\n",
        "# Graph Representation and traversal\n",
        "!wget --no-check-certificate -P ./docs/ https://cs.colby.edu/courses/S18/cs231/notes/outlines27.pdf"
      ],
      "execution_count": null,
      "outputs": []
    },
    {
      "cell_type": "code",
      "metadata": {
        "ExecuteTime": {
          "end_time": "2019-07-20T13:44:01.821890Z",
          "start_time": "2019-07-20T13:43:22.685954Z"
        },
        "id": "czafu4-aEXXm",
        "colab": {
          "base_uri": "https://localhost:8080/",
          "height": 195
        },
        "outputId": "d78c15df-435d-402f-b76c-4e02033b84f7"
      },
      "source": [
        "# convert the pdfs and store into a pandas df called df\n",
        "df = pdf_converter(directory_path='./docs/')\n",
        "df.head()"
      ],
      "execution_count": null,
      "outputs": [
        {
          "output_type": "execute_result",
          "data": {
            "text/html": [
              "<div>\n",
              "<style scoped>\n",
              "    .dataframe tbody tr th:only-of-type {\n",
              "        vertical-align: middle;\n",
              "    }\n",
              "\n",
              "    .dataframe tbody tr th {\n",
              "        vertical-align: top;\n",
              "    }\n",
              "\n",
              "    .dataframe thead th {\n",
              "        text-align: right;\n",
              "    }\n",
              "</style>\n",
              "<table border=\"1\" class=\"dataframe\">\n",
              "  <thead>\n",
              "    <tr style=\"text-align: right;\">\n",
              "      <th></th>\n",
              "      <th>title</th>\n",
              "      <th>paragraphs</th>\n",
              "    </tr>\n",
              "  </thead>\n",
              "  <tbody>\n",
              "    <tr>\n",
              "      <th>0</th>\n",
              "      <td>Yale1</td>\n",
              "      <td>[printf(\"%d\\n\", count);return 0;}examples/vari...</td>\n",
              "    </tr>\n",
              "    <tr>\n",
              "      <th>1</th>\n",
              "      <td>UCBerkeley3b</td>\n",
              "      <td>[Enscript Output, 04/11/1419:06:29 129        ...</td>\n",
              "    </tr>\n",
              "    <tr>\n",
              "      <th>2</th>\n",
              "      <td>CMU3</td>\n",
              "      <td>[Unit09, 1 , 15-121 Introduction to Data Struc...</td>\n",
              "    </tr>\n",
              "    <tr>\n",
              "      <th>3</th>\n",
              "      <td>Yale3</td>\n",
              "      <td>[Figure 4: A directed graph, 339, 5.13.3 Opera...</td>\n",
              "    </tr>\n",
              "    <tr>\n",
              "      <th>4</th>\n",
              "      <td>CMU2</td>\n",
              "      <td>[Unit06A, 1 , 15-121 Introduction to Data Stru...</td>\n",
              "    </tr>\n",
              "  </tbody>\n",
              "</table>\n",
              "</div>"
            ],
            "text/plain": [
              "          title                                         paragraphs\n",
              "0         Yale1  [printf(\"%d\\n\", count);return 0;}examples/vari...\n",
              "1  UCBerkeley3b  [Enscript Output, 04/11/1419:06:29 129        ...\n",
              "2          CMU3  [Unit09, 1 , 15-121 Introduction to Data Struc...\n",
              "3         Yale3  [Figure 4: A directed graph, 339, 5.13.3 Opera...\n",
              "4          CMU2  [Unit06A, 1 , 15-121 Introduction to Data Stru..."
            ]
          },
          "metadata": {
            "tags": []
          },
          "execution_count": 8
        }
      ]
    },
    {
      "cell_type": "code",
      "metadata": {
        "colab": {
          "base_uri": "https://localhost:8080/"
        },
        "id": "VAGxZBhp6b9v",
        "outputId": "903b60a3-1ffc-4e31-ac61-9662a6bf77f8"
      },
      "source": [
        "from cdqa.utils.converters import df2squad\n",
        "# Converting dataframe to .json format\n",
        "json_data = df2squad(df=df, squad_version='v1.1', output_dir='docs/', filename='other_schools_data.json')"
      ],
      "execution_count": null,
      "outputs": [
        {
          "output_type": "stream",
          "text": [
            "28it [00:00, 3963.84it/s]\n"
          ],
          "name": "stderr"
        }
      ]
    },
    {
      "cell_type": "markdown",
      "metadata": {
        "id": "bubV7Zjz_z8N"
      },
      "source": [
        "Once the file is downloaded to local computer, do the following in Terminal:\n",
        "\n",
        "\n",
        "```\n",
        "cd ~/Documents/Thesis/cdQA-annotator/\n",
        "npm run serve\n",
        "```\n",
        "\n",
        "This should run the annotator application at *localhost:8080*.\n",
        "\n",
        "There, upload the .json file we generated above and start annotating by type out questions and selecting answers from the paragraph given.\n",
        "\n",
        "**NOTE:** Do not edit answers in any way - just select from paragraph even though the formatting might be odd. Changing the answers to not match with the paragraph will lead to token errors in the future which is really tedious to find and fix manually.\n",
        "\n",
        "Finally, save the new .json file generated."
      ]
    },
    {
      "cell_type": "markdown",
      "metadata": {
        "id": "4i5IJ74b80uX"
      },
      "source": [
        "## Fitting the model"
      ]
    },
    {
      "cell_type": "code",
      "metadata": {
        "id": "46wY5JQY-IUp",
        "colab": {
          "base_uri": "https://localhost:8080/"
        },
        "outputId": "944883bd-9fc8-4550-9015-ddd86c7f7607"
      },
      "source": [
        "# downloading the trained model and storing in models\n",
        "download_model(model='bert-squad_1.1', dir='./models')"
      ],
      "execution_count": null,
      "outputs": [
        {
          "output_type": "stream",
          "text": [
            "\n",
            "Downloading trained model...\n"
          ],
          "name": "stdout"
        }
      ]
    },
    {
      "cell_type": "code",
      "metadata": {
        "id": "e_thVG19vCMh"
      },
      "source": [
        "!pip install pytorch-transformers"
      ],
      "execution_count": null,
      "outputs": []
    },
    {
      "cell_type": "code",
      "metadata": {
        "ExecuteTime": {
          "end_time": "2019-07-20T13:44:46.283172Z",
          "start_time": "2019-07-20T13:44:45.317024Z"
        },
        "colab": {
          "base_uri": "https://localhost:8080/"
        },
        "id": "8OOqnkNyEaFe",
        "outputId": "bffcad22-27b5-43e6-bab2-c75ab4ee996d"
      },
      "source": [
        "# cdqa_pipeline = QAPipeline(reader='./models/bert_qa.joblib', max_df=1.0)\n",
        "cdqa_pipeline = QAPipeline(reader='extended_CS231_bert.joblib', max_df=1.0)\n",
        "cdqa_pipeline.fit_retriever(df=df)"
      ],
      "execution_count": null,
      "outputs": [
        {
          "output_type": "stream",
          "text": [
            "100%|██████████| 231508/231508 [00:00<00:00, 904845.40B/s]\n"
          ],
          "name": "stderr"
        },
        {
          "output_type": "execute_result",
          "data": {
            "text/plain": [
              "QAPipeline(reader=BertQA(adam_epsilon=1e-08, bert_model='bert-base-uncased',\n",
              "                         do_lower_case=True, fp16=False,\n",
              "                         gradient_accumulation_steps=1, learning_rate=5e-05,\n",
              "                         local_rank=-1, loss_scale=0, max_answer_length=30,\n",
              "                         n_best_size=20, no_cuda=False,\n",
              "                         null_score_diff_threshold=0.0, num_train_epochs=3.0,\n",
              "                         output_dir=None, predict_batch_size=8, seed=42,\n",
              "                         server_ip='', server_po...size=32,\n",
              "                         verbose_logging=False, version_2_with_negative=False,\n",
              "                         warmup_proportion=0.1, warmup_steps=0),\n",
              "           retrieve_by_doc=False,\n",
              "           retriever=BM25Retriever(b=0.75, floor=None, k1=2.0, lowercase=True,\n",
              "                                   max_df=1.0, min_df=2, ngram_range=(1, 2),\n",
              "                                   preprocessor=None, stop_words='english',\n",
              "                                   token_pattern='(?u)\\\\b\\\\w\\\\w+\\\\b',\n",
              "                                   tokenizer=None, top_n=20, verbose=False,\n",
              "                                   vocabulary=None))"
            ]
          },
          "metadata": {
            "tags": []
          },
          "execution_count": 9
        }
      ]
    },
    {
      "cell_type": "code",
      "metadata": {
        "ExecuteTime": {
          "end_time": "2019-07-20T13:54:57.200016Z",
          "start_time": "2019-07-20T13:44:49.005187Z"
        },
        "id": "POH2gjywEcNb",
        "colab": {
          "base_uri": "https://localhost:8080/"
        },
        "outputId": "8f079c8c-eb92-4a17-ea1a-51b502829b49"
      },
      "source": [
        "query = 'what is dijkstra algorithm?'\n",
        "prediction = cdqa_pipeline.predict(query, 2)\n",
        "prediction"
      ],
      "execution_count": null,
      "outputs": [
        {
          "output_type": "execute_result",
          "data": {
            "text/plain": [
              "[('if the graph is sparse with e = O(n)',\n",
              "  'UofBirmingham3',\n",
              "  '111instructions in each run through the loops. However, if the graph is sparse with e = O(n),then multiple runs of Dijkstra’s algorithm can be made to perform with time complexityO(n2log2 n), and be faster than Floyd’s algorithm.',\n",
              "  11.499287448582807),\n",
              " ('The time complexity here is clearly O(n3), since it involves three nested for loops of O(n)',\n",
              "  'UofBirmingham3',\n",
              "  'The time complexity here is clearly O(n3), since it involves three nested for loops of O(n).This is the same complexity as running the O(n2) Dijkstra’s algorithm once for each of the npossible starting vertices. In general, however, Floyd’s algorithm will be faster than Dijkstra’s,even though they are both in the same complexity class, because the former performs fewer',\n",
              "  11.36019416442258)]"
            ]
          },
          "metadata": {
            "tags": []
          },
          "execution_count": 10
        }
      ]
    },
    {
      "cell_type": "code",
      "metadata": {
        "colab": {
          "base_uri": "https://localhost:8080/"
        },
        "id": "nLjtQEG6S00m",
        "outputId": "d43d744f-5b9f-462f-b5e4-524258897c33"
      },
      "source": [
        "print('query: {}'.format(query))\n",
        "print('answer: {}'.format(prediction[0]))\n",
        "print('title: {}'.format(prediction[1]))\n",
        "# print('paragraph: {}'.format(prediction[2]))"
      ],
      "execution_count": null,
      "outputs": [
        {
          "output_type": "stream",
          "text": [
            "query: what is dijkstra algorithm?\n",
            "answer: ('the algorithm is straightforward, it does perform n memory accesses for a graph with n vertices', 'outlines27', '- Although the algorithm is straightforward, it does perform n memory accesses for a graph with n vertices; the algorithm is O(n).', 9.282458173339506)\n",
            "title: ('A sentinel node is a specifically designed node used with linked lists and trees as a traversal path terminator', 'outlines14', '- Note: Header and trailer are sentinel nodes. A sentinel node is a specifically designed node used with linked lists and trees as a traversal path terminator. This type of node does not hold or reference any data managed by the data structure.', 7.3822327852249146)\n"
          ],
          "name": "stdout"
        }
      ]
    },
    {
      "cell_type": "code",
      "metadata": {
        "colab": {
          "base_uri": "https://localhost:8080/"
        },
        "id": "8znu7nCzL3YQ",
        "outputId": "45c5e65b-3369-4bfc-c6c8-ef0f79351b67"
      },
      "source": [
        "from google.colab import drive\n",
        "drive.mount('/content/drive')"
      ],
      "execution_count": null,
      "outputs": [
        {
          "output_type": "stream",
          "text": [
            "Mounted at /content/drive\n"
          ],
          "name": "stdout"
        }
      ]
    },
    {
      "cell_type": "code",
      "metadata": {
        "colab": {
          "base_uri": "https://localhost:8080/"
        },
        "id": "DBXWSfsx4bQB",
        "outputId": "67c51f4e-8a7a-4f0d-f076-eddb9dcfff49"
      },
      "source": [
        "# convert the model we just fine tuned on new data and optimise for CPU\n",
        "# then save as a .joblib to models\n",
        "import joblib\n",
        "cdqa_pipeline.to('cpu')\n",
        "joblib.dump(cdqa_pipeline, './bert_qa_extended_new.joblib')"
      ],
      "execution_count": null,
      "outputs": [
        {
          "output_type": "execute_result",
          "data": {
            "text/plain": [
              "['./bert_qa_extended_new.joblib']"
            ]
          },
          "metadata": {
            "tags": []
          },
          "execution_count": 12
        }
      ]
    },
    {
      "cell_type": "code",
      "metadata": {
        "id": "DecDNFn9L4NF"
      },
      "source": [
        "# copy the model to my personal drive\n",
        "!cp ./bert_qa_extended_new.joblib /content/drive/MyDrive/Colab\\ Notebooks/models"
      ],
      "execution_count": null,
      "outputs": []
    },
    {
      "cell_type": "code",
      "metadata": {
        "colab": {
          "base_uri": "https://localhost:8080/"
        },
        "id": "FEmrQKX3yjez",
        "outputId": "f962ec6a-cc9a-439d-a6dc-29b4ad479c69"
      },
      "source": [
        "# load the custom model we just saved\n",
        "# look at architecture\n",
        "cdqa_pipeline=joblib.load('./models/bert_qa_custom.joblib')\n",
        "cdqa_pipeline"
      ],
      "execution_count": null,
      "outputs": [
        {
          "output_type": "execute_result",
          "data": {
            "text/plain": [
              "QAPipeline(reader=BertQA(adam_epsilon=1e-08, bert_model='bert-base-uncased',\n",
              "                         do_lower_case=True, fp16=False,\n",
              "                         gradient_accumulation_steps=1, learning_rate=5e-05,\n",
              "                         local_rank=-1, loss_scale=0, max_answer_length=30,\n",
              "                         n_best_size=20, no_cuda=False,\n",
              "                         null_score_diff_threshold=0.0, num_train_epochs=3.0,\n",
              "                         output_dir=None, predict_batch_size=8, seed=42,\n",
              "                         server_ip='', server_po..._size=8,\n",
              "                         verbose_logging=False, version_2_with_negative=False,\n",
              "                         warmup_proportion=0.1, warmup_steps=0),\n",
              "           retrieve_by_doc=False,\n",
              "           retriever=BM25Retriever(b=0.75, floor=None, k1=2.0, lowercase=True,\n",
              "                                   max_df=1.0, min_df=2, ngram_range=(1, 2),\n",
              "                                   preprocessor=None, stop_words='english',\n",
              "                                   token_pattern='(?u)\\\\b\\\\w\\\\w+\\\\b',\n",
              "                                   tokenizer=None, top_n=20, verbose=False,\n",
              "                                   vocabulary=None))"
            ]
          },
          "metadata": {
            "tags": []
          },
          "execution_count": 11
        }
      ]
    }
  ]
}